{
 "cells": [
  {
   "cell_type": "code",
   "execution_count": null,
   "metadata": {},
   "outputs": [],
   "source": [
    "!pip install unlimited-classifier"
   ]
  },
  {
   "cell_type": "code",
   "execution_count": null,
   "metadata": {},
   "outputs": [],
   "source": [
    "from datasets import load_dataset\n",
    "from unlimited_classifier import TextClassifier\n",
    "from sklearn.metrics import classification_report\n",
    "from tqdm import tqdm"
   ]
  },
  {
   "cell_type": "code",
   "execution_count": null,
   "metadata": {},
   "outputs": [],
   "source": [
    "#emotion\n",
    "emotion_dataset = load_dataset(\"dair-ai/emotion\")\n",
    "\n",
    "test_dataset = emotion_dataset['test']\n",
    "\n",
    "classes = test_dataset.features[\"label\"].names\n",
    "\n",
    "idx2class = {idx:class_ for idx, class_ in enumerate(classes)}\n"
   ]
  },
  {
   "cell_type": "code",
   "execution_count": null,
   "metadata": {},
   "outputs": [],
   "source": [
    "model_name = 'google/flan-t5-large'\n",
    "classifier = TextClassifier(\n",
    "    labels=classes,\n",
    "    model=model_name,\n",
    "    tokenizer=model_name,\n",
    "    device='cuda:0'\n",
    ")"
   ]
  },
  {
   "cell_type": "code",
   "execution_count": null,
   "metadata": {},
   "outputs": [],
   "source": [
    "batch_size = 8\n",
    "\n",
    "results = []\n",
    "for id in tqdm(range(0, len(test_dataset), batch_size)):\n",
    "    examples = test_dataset[id:id+batch_size]\n",
    "    texts = examples['text']\n",
    "    output = classifier.invoke_batch(texts)\n",
    "    predicts = [res[0] for res in output]\n",
    "    results+=predicts\n",
    "\n"
   ]
  },
  {
   "cell_type": "code",
   "execution_count": null,
   "metadata": {},
   "outputs": [],
   "source": [
    "from sklearn.metrics import classification_report\n",
    "\n",
    "class2idx = {class_:idx for idx, class_ in idx2class.items()}\n",
    "predicts = [class2idx[res[0]] for res in results]\n",
    "labels = test_dataset['label']\n",
    "print(classification_report(labels, predicts, target_names=classes, digits=4))"
   ]
  }
 ],
 "metadata": {
  "language_info": {
   "name": "python"
  },
  "orig_nbformat": 4
 },
 "nbformat": 4,
 "nbformat_minor": 2
}
